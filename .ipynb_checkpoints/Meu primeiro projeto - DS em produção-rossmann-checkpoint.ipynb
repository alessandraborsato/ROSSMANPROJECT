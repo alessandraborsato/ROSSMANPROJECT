{
 "cells": [
  {
   "cell_type": "markdown",
   "metadata": {},
   "source": [
    "## Contexto do Projeto\n",
    "\n",
    "Rossmann opera mais de 3.000 drogarias em 7 países europeus. Atualmente, os gerentes de loja da Rossmann têm a tarefa de prever suas vendas diárias com até seis semanas de antecedência. As vendas da loja são influenciadas por muitos fatores, incluindo promoções, competição, feriados escolares e estaduais, sazonalidade e localidade. Com milhares de gerentes individuais prevendo vendas com base em suas circunstâncias únicas, a precisão dos resultados pode ser bastante variada. Você pode baixar o conjunto de dados aqui: https://www.kaggle.com/c/rossmann-store-sales/data.\n",
    "\n",
    "Problema de Negócio\n",
    "Em primeiro lugar, precisamos entender qual é o nosso problema de negócios. Portanto, criamos um contexto para nos ajudar a construir a solução. Então, vamos seguir essas quatro etapas.\n",
    "\n",
    "Qual é o contexto?\n",
    "Em reunião com os líderes de cada departamento, o CEO da Rossmann fez a proposta de reformar todas as lojas.\n",
    "\n",
    "Qual é a causa?\n",
    "O CEO da Rossmann quer prever quanto cada loja vai vender nas próximas 6 semanas. Ele precisa saber se o orçamento será suficiente para fazer uma reforma em cada loja.\n",
    "\n",
    "Quem vai liderar o projeto?\n",
    "Precisamos de alguém que realmente saiba qual é o problema do negócio, porque ele vai liderar a solução. Portanto, ele é nosso stakeholder.\n",
    "\n",
    "Como ficará nossa solução?\n",
    "\n",
    "Qual é o formato?\n",
    "\n",
    "Granularidade (hora, dia, produto) ---> 6 semanas\n",
    "\n",
    "Tipo de problema (classificação, regressão, agrupamento, etc.) ---> Regressão\n",
    "\n",
    "Como vamos entregar? (painel, csv, Notebook) ---> Notebook\n",
    "\n",
    "Etapas do Projeto:\n",
    "\n",
    "\n",
    "Seguiremos todas essas etapas a seguir para a resolução do nosso projeto:\n",
    "\n",
    "\n",
    "0.0. IMPORTS\n",
    "\n",
    "1.0. DESCRIÇÃO DOS DADOS\n",
    "\n",
    "2.0. FEATURE ENGINEERING\n",
    "\n",
    "3.0. FILTRANDO OS DADOS\n",
    "\n",
    "4.0. ANÁLISE EXPLORATÓRIA DOS DADOS\n",
    "\n",
    "5.0. PREPARAÇÃO DOS DADOS\n",
    "\n",
    "6.0. SELEÇÃO DE FEATURES\n",
    "\n",
    "7.0. MACHINE LEARNING\n",
    "\n",
    "8.0. INTERPRETANDO OS RESULTADOS\n"
   ]
  },
  {
   "cell_type": "markdown",
   "metadata": {},
   "source": [
    "# 0.0 Imports "
   ]
  },
  {
   "cell_type": "code",
   "execution_count": null,
   "metadata": {
    "ExecuteTime": {
     "end_time": "2021-06-13T01:50:20.603284Z",
     "start_time": "2021-06-13T01:50:17.407794Z"
    }
   },
   "outputs": [],
   "source": [
    "import math \n",
    "import datetime\n",
    "import inflection\n",
    "import random\n",
    "import warnings\n",
    "import pickle\n",
    "import pandas                as pd\n",
    "import numpy                 as np\n",
    "import seaborn               as sns\n",
    "import matplotlib.pyplot     as plt\n",
    "from tabulate                import tabulate\n",
    "from matplotlib.gridspec     import GridSpec\n",
    "from scipy                   import stats    as ss\n",
    "from sklearn.preprocessing   import MinMaxScaler, RobustScaler, LabelEncoder\n",
    "from sklearn.ensemble        import RandomForestRegressor\n",
    "from sklearn.metrics         import mean_absolute_error, mean_squared_error, mean_absolute_error\n",
    "from sklearn.linear_model    import LinearRegression, Lasso\n",
    "from sklearn.model_selection import RandomizedSearchCV\n",
    "from flask                   import Flask\n",
    "from IPython.display         import Image\n",
    "\n",
    "warnings.filterwarnings( 'ignore' )\n"
   ]
  },
  {
   "cell_type": "markdown",
   "metadata": {},
   "source": [
    "### Loading data"
   ]
  },
  {
   "cell_type": "code",
   "execution_count": null,
   "metadata": {
    "ExecuteTime": {
     "end_time": "2021-06-13T01:50:22.654424Z",
     "start_time": "2021-06-13T01:50:20.614612Z"
    }
   },
   "outputs": [],
   "source": [
    "df_sales_raw= pd.read_csv('train.csv',low_memory= False)\n",
    "df_store_raw= pd.read_csv('store.csv',low_memory= False)\n",
    "\n",
    "# Fazendo o merge dos dados para transformar os dois datasets em apenas 1 \n",
    "df_raw=pd.merge(df_sales_raw,df_store_raw,how='left', on='Store')\n"
   ]
  },
  {
   "cell_type": "code",
   "execution_count": null,
   "metadata": {
    "ExecuteTime": {
     "end_time": "2021-06-13T01:50:23.268012Z",
     "start_time": "2021-06-13T01:50:22.658993Z"
    }
   },
   "outputs": [],
   "source": [
    "df_raw.sample()"
   ]
  },
  {
   "cell_type": "markdown",
   "metadata": {},
   "source": [
    "### Descrição dos dados das variáveis"
   ]
  },
  {
   "cell_type": "markdown",
   "metadata": {},
   "source": [
    "Store - um ID único para cada loja.\n",
    "DayOfWeek - Dia correspondente da semana.\n",
    "Date - O dia do acontecimento do dado.\n",
    "Sales - o volume de vendas.\n",
    "Customers - o número de clientes em um determinado dia.\n",
    "Open - um indicador para saber se a loja estava aberta: 0 = fechada, 1 = aberta\n",
    "StateHoliday - indica um feriado estadual. Normalmente todas as lojas, com poucas exceções, fecham nos feriados estaduais. Observe que todas as escolas fecham nos feriados e finais de semana. a = feriado, b = feriado da Páscoa, c = Natal, 0 = Nenhum\n",
    "SchoolHoliday - indica se (loja, data) foi afetado pelo fechamento de escolas públicas.\n",
    "StoreType - diferencia entre 4 modelos de loja diferentes: a, b, c, d\n",
    "Assortment - descreve um nível de sortimento: a = básico, b = extra, c = estendido\n",
    "CompetitionDistance - distância em metros até a loja concorrente mais próxima.\n",
    "CompetitionOpenSince [Month / Year] - fornece o mês e ano aproximados em que o concorrente mais próximo foi aberto.\n",
    "Promo - indica se uma loja está fazendo uma promoção naquele dia.\n",
    "Promo2 - Promo2 é uma promoção contínua e consecutiva para algumas lojas: 0 = a loja não está participando, 1 = a loja está participando.\n",
    "Promo2Since [Year / Week] - descreve o ano e a semana em que a loja começou a participar da Promo2.\n",
    "PromoInterval - descreve os intervalos consecutivos em que a Promo2 é iniciada, nomeando os meses em que a promoção é reiniciada. Por exemplo. \"Fev, maio, agosto, novembro\" significa que cada rodada começa em fevereiro, maio, agosto, novembro de qualquer ano para aquela loja."
   ]
  },
  {
   "cell_type": "markdown",
   "metadata": {
    "heading_collapsed": true
   },
   "source": [
    "## 0.1 Helper Functions"
   ]
  },
  {
   "cell_type": "code",
   "execution_count": null,
   "metadata": {
    "ExecuteTime": {
     "end_time": "2021-06-13T01:50:23.291813Z",
     "start_time": "2021-06-13T01:50:23.273744Z"
    },
    "hidden": true
   },
   "outputs": [],
   "source": [
    "pd.set_option('max_columns', None)\n",
    "\n",
    "def cramer_v(x, y):\n",
    "    cm= np.asmatrix(pd.crosstab(x,y))\n",
    "    n= cm.sum()\n",
    "    r, k= cm.shape\n",
    "    \n",
    "    chi2= ss.chi2_contingency(cm)[0]\n",
    "    chi2corr= max(0, chi2 - (k - 1) * (r-1)/n - 1)\n",
    "    kcorr= k - (k - 1) ** 2 / (n - 1)\n",
    "    rcorr= r - (r - 1) ** 2 / (n - 1)\n",
    "    \n",
    "    return np.sqrt((chi2corr / n) / (min(kcorr - 1, rcorr - 1)))"
   ]
  },
  {
   "cell_type": "markdown",
   "metadata": {
    "heading_collapsed": true
   },
   "source": [
    "# 1.0 Descrição dos dados\n"
   ]
  },
  {
   "cell_type": "markdown",
   "metadata": {
    "hidden": true
   },
   "source": [
    "### 1.1. Renomeando as colunas "
   ]
  },
  {
   "cell_type": "code",
   "execution_count": null,
   "metadata": {
    "ExecuteTime": {
     "end_time": "2021-06-13T01:50:23.780754Z",
     "start_time": "2021-06-13T01:50:23.298263Z"
    },
    "hidden": true
   },
   "outputs": [],
   "source": [
    "df1=df_raw.copy()  #criando uma copia do data para seguranca dos dados originais\n"
   ]
  },
  {
   "cell_type": "code",
   "execution_count": null,
   "metadata": {
    "ExecuteTime": {
     "end_time": "2021-06-13T01:50:23.803322Z",
     "start_time": "2021-06-13T01:50:23.787831Z"
    },
    "hidden": true
   },
   "outputs": [],
   "source": [
    "df1.columns      #olhando os nomes das colunas"
   ]
  },
  {
   "cell_type": "code",
   "execution_count": null,
   "metadata": {
    "ExecuteTime": {
     "end_time": "2021-06-13T01:50:23.851446Z",
     "start_time": "2021-06-13T01:50:23.814683Z"
    },
    "hidden": true
   },
   "outputs": [],
   "source": [
    "cols_old=['Store', 'DayOfWeek', 'Date', 'Sales', 'Customers', 'Open', 'Promo',\n",
    "       'StateHoliday', 'SchoolHoliday', 'StoreType', 'Assortment',\n",
    "       'CompetitionDistance', 'CompetitionOpenSinceMonth',\n",
    "       'CompetitionOpenSinceYear', 'Promo2', 'Promo2SinceWeek',\n",
    "       'Promo2SinceYear', 'PromoInterval']\n",
    "snakecase=lambda x:inflection.underscore(x) \n",
    "cols_new=list(map(snakecase,cols_old))  #lambda: e a declaracao de uma funcao \n",
    "#snakecase: reencreve em minusculo e com _ como separador\n",
    "#funcao map: faz o mapeamento da funcao snakecase em todas as palavras da lista cols_old\n",
    "\n",
    "#Rename\n",
    "df1.columns=cols_new\n"
   ]
  },
  {
   "cell_type": "markdown",
   "metadata": {
    "hidden": true
   },
   "source": [
    "### 1.2 Dimensao dos dados"
   ]
  },
  {
   "cell_type": "code",
   "execution_count": null,
   "metadata": {
    "ExecuteTime": {
     "end_time": "2021-06-13T01:50:23.955929Z",
     "start_time": "2021-06-13T01:50:23.931675Z"
    },
    "hidden": true
   },
   "outputs": [],
   "source": [
    "print('Numbers of Rows:{}'.format(df1.shape[0])) \n",
    "print('Numbers of Columns:{}'.format(df1.shape[1]))"
   ]
  },
  {
   "cell_type": "markdown",
   "metadata": {
    "hidden": true
   },
   "source": [
    "### 1.3. Tipo de dados "
   ]
  },
  {
   "cell_type": "code",
   "execution_count": null,
   "metadata": {
    "ExecuteTime": {
     "end_time": "2021-06-13T01:50:23.981652Z",
     "start_time": "2021-06-13T01:50:23.965470Z"
    },
    "hidden": true
   },
   "outputs": [],
   "source": [
    "df1.dtypes"
   ]
  },
  {
   "cell_type": "code",
   "execution_count": null,
   "metadata": {
    "ExecuteTime": {
     "end_time": "2021-06-13T01:50:24.356352Z",
     "start_time": "2021-06-13T01:50:23.984855Z"
    },
    "hidden": true
   },
   "outputs": [],
   "source": [
    "df1['date']=pd.to_datetime(df1['date'])  # ajustando a variavel de data \n",
    "\n"
   ]
  },
  {
   "cell_type": "markdown",
   "metadata": {
    "hidden": true
   },
   "source": [
    "### 1.4 Checando os NAs"
   ]
  },
  {
   "cell_type": "code",
   "execution_count": null,
   "metadata": {
    "ExecuteTime": {
     "end_time": "2021-06-13T01:50:24.862438Z",
     "start_time": "2021-06-13T01:50:24.359461Z"
    },
    "hidden": true
   },
   "outputs": [],
   "source": [
    "df1.isna().sum()"
   ]
  },
  {
   "cell_type": "markdown",
   "metadata": {
    "hidden": true
   },
   "source": [
    "### 1.5 Preenchendo os NAs"
   ]
  },
  {
   "cell_type": "raw",
   "metadata": {
    "hidden": true
   },
   "source": [
    "* competition_distance: Colocar uma distância muito grande para mostrar que não existe competição perto.\n",
    "* competition_open_since_month: Colocar o respectivo número do mês da coluna ['date'].\n",
    "* competition_open_since_year: Colocar o respectivo número do ano da coluna ['date'].\n",
    "* promo2_since_week: Colocar o respectivo número da semana da coluna ['date'].\n",
    "* promo2_since_year: Colocar o respectivo número do ano da coluna ['date'].\n",
    "* promo_interval: Preencher com 0 e criar uma nova coluna chamada ['is_promo'] onde, se o mês da coluna['date'] estiver *na coluna ['promo_interval'] retorna 1(possui promoção) e 0 para o restante."
   ]
  },
  {
   "cell_type": "code",
   "execution_count": null,
   "metadata": {
    "ExecuteTime": {
     "end_time": "2021-06-13T01:50:25.534057Z",
     "start_time": "2021-06-13T01:50:24.869369Z"
    },
    "hidden": true
   },
   "outputs": [],
   "source": [
    "\n",
    "#competition_distance (Na's faltantes:  2642 )\n",
    "\n",
    "df1['competition_distance']=df1['competition_distance'].apply(lambda x:2000000.0 if math.isnan(x) else x)\n",
    "# distancia em metros do competidor mais proximo . \n",
    "# math.isnam : encontra na coluna os valores sem dados \n",
    "\n"
   ]
  },
  {
   "cell_type": "code",
   "execution_count": null,
   "metadata": {
    "ExecuteTime": {
     "end_time": "2021-06-13T01:50:25.553694Z",
     "start_time": "2021-06-13T01:50:25.536411Z"
    },
    "hidden": true
   },
   "outputs": [],
   "source": [
    "df1['competition_distance'].max()"
   ]
  },
  {
   "cell_type": "code",
   "execution_count": null,
   "metadata": {
    "ExecuteTime": {
     "end_time": "2021-06-13T01:50:25.855010Z",
     "start_time": "2021-06-13T01:50:25.557979Z"
    },
    "hidden": true
   },
   "outputs": [],
   "source": [
    "df1.isna().sum()"
   ]
  },
  {
   "cell_type": "code",
   "execution_count": null,
   "metadata": {
    "ExecuteTime": {
     "end_time": "2021-06-13T01:50:25.962038Z",
     "start_time": "2021-06-13T01:50:25.857777Z"
    },
    "hidden": true
   },
   "outputs": [],
   "source": [
    "df1.sample()"
   ]
  },
  {
   "cell_type": "code",
   "execution_count": null,
   "metadata": {
    "ExecuteTime": {
     "start_time": "2021-06-13T01:50:17.959Z"
    },
    "hidden": true
   },
   "outputs": [],
   "source": [
    "\n",
    "#nao possui competidor proximo ou nao tem o dado\n",
    "#No entendimento assumo que : se tiver dados vazios(isnan.math) na coluna 'competition since mounth/year/week', eu vou pegar a coluna 'date' extrair o mes e substituindo o NA, aplicando(apply)em todas as colunas (axis 1)\n",
    "    \n",
    "#competition_open_since_month (Na's faltantes: 323348)\n",
    "#mes e ano que o competidor abriu \n",
    "df1['competition_open_since_month']=df1.apply(lambda x:x ['date'].month if math.isnan (x['competition_open_since_month'])else x ['competition_open_since_month'],axis=1)\n",
    "\n",
    "#competition_open_since_year   ( Na's faltantes:  323348)\n",
    "df1['competition_open_since_year']=df1.apply(lambda x:x ['date'].year if math.isnan (x['competition_open_since_year'])else x ['competition_open_since_year'],axis=1)\n",
    "\n",
    "#promo2_since_week             ( Na's faltantes:  508031)\n",
    "df1['promo2_since_week']=df1.apply(lambda x:x ['date'].week if math.isnan (x['promo2_since_week'])else x ['promo2_since_week'],axis=1)\n",
    "\n",
    "#promo2_since_year             ( Na's faltantes:  508031)\n",
    "df1['promo2_since_year']=df1.apply(lambda x:x ['date'].year if math.isnan (x['promo2_since_year'])else x ['promo2_since_year'],axis=1)\n",
    "\n",
    "#promo_interval                  508031\n",
    "#crio uma lista de meses, se a data estiver dentro da lista a promo2 foi ativa.\n",
    "\n",
    "month_map={1:'Jan',2:'Fev',3:'Mar',4:'Apr',5:'May',6:'Jun',7:'Jul',8:'Aug',9:'Sep',10:'Oct',11:'Nov',12:'Dec'}\n",
    "df1['promo_interval'].fillna(0,inplace=True) #fillna na coluna promo_interval com valor 0, #inplace=true para nao retornar nada, com modificacao direto na coluna \n",
    "\n",
    "df1['month_map']=df1['date'].dt.month.map(month_map) # substituindo os dados da coluna date para os meses da lista month map\n",
    "df1['is_promo']=df1[['promo_interval','month_map']].apply(lambda x:0 if x['promo_interval']==0 else 1if x['month_map']in x['promo_interval'].split(',')else 0, axis=1)                                      \n",
    "\n"
   ]
  },
  {
   "cell_type": "code",
   "execution_count": null,
   "metadata": {
    "ExecuteTime": {
     "start_time": "2021-06-13T01:50:17.964Z"
    },
    "hidden": true
   },
   "outputs": [],
   "source": [
    "df1.isna().sum()"
   ]
  },
  {
   "cell_type": "code",
   "execution_count": null,
   "metadata": {
    "ExecuteTime": {
     "start_time": "2021-06-13T01:50:17.968Z"
    },
    "hidden": true
   },
   "outputs": [],
   "source": [
    "df1.sample(5).T"
   ]
  },
  {
   "cell_type": "markdown",
   "metadata": {
    "hidden": true
   },
   "source": [
    "### 1.6 Change types\n"
   ]
  },
  {
   "cell_type": "code",
   "execution_count": null,
   "metadata": {
    "ExecuteTime": {
     "start_time": "2021-06-13T01:50:17.990Z"
    },
    "hidden": true
   },
   "outputs": [],
   "source": [
    "df1.dtypes"
   ]
  },
  {
   "cell_type": "code",
   "execution_count": null,
   "metadata": {
    "ExecuteTime": {
     "start_time": "2021-06-13T01:50:17.993Z"
    },
    "hidden": true
   },
   "outputs": [],
   "source": [
    "df1['competition_open_since_year']=df1['competition_open_since_year'].astype(int)\n",
    "df1['competition_open_since_month']=df1['competition_open_since_month'].astype(int)\n",
    "df1['promo2_since_week']=df1['promo2_since_week'].astype(int)\n",
    "df1['promo2_since_year']=df1['promo2_since_year'].astype(int)"
   ]
  },
  {
   "cell_type": "markdown",
   "metadata": {
    "hidden": true
   },
   "source": [
    "### 1.7 Descrição estatística "
   ]
  },
  {
   "cell_type": "code",
   "execution_count": null,
   "metadata": {
    "ExecuteTime": {
     "start_time": "2021-06-13T01:50:18.014Z"
    },
    "hidden": true
   },
   "outputs": [],
   "source": [
    "# separando as variaveis numericas e as categoricas \n",
    "num_attributes= df1.select_dtypes(include=['int64','float64'])\n",
    "cat_attributes= df1.select_dtypes(exclude=['int64','float64','datetime64[ns]'])"
   ]
  },
  {
   "cell_type": "code",
   "execution_count": null,
   "metadata": {
    "ExecuteTime": {
     "start_time": "2021-06-13T01:50:18.018Z"
    },
    "hidden": true
   },
   "outputs": [],
   "source": [
    "num_attributes.sample(2)\n"
   ]
  },
  {
   "cell_type": "code",
   "execution_count": null,
   "metadata": {
    "ExecuteTime": {
     "start_time": "2021-06-13T01:50:18.023Z"
    },
    "hidden": true
   },
   "outputs": [],
   "source": [
    "cat_attributes.sample(2)"
   ]
  },
  {
   "cell_type": "markdown",
   "metadata": {
    "ExecuteTime": {
     "end_time": "2021-06-04T14:43:41.415148Z",
     "start_time": "2021-06-04T14:43:41.407058Z"
    },
    "hidden": true
   },
   "source": [
    "### 1.7.1 Numéricos"
   ]
  },
  {
   "cell_type": "code",
   "execution_count": null,
   "metadata": {
    "ExecuteTime": {
     "start_time": "2021-06-13T01:50:18.043Z"
    },
    "hidden": true
   },
   "outputs": [],
   "source": [
    "# central tendency- mean, median\n",
    "ct1=pd.DataFrame(num_attributes.apply(np.mean)).T\n",
    "ct2=pd.DataFrame(num_attributes.apply(np.median)).T\n",
    "#Dispersion- std,min,max,range,skew,kurtosis\n",
    "d1=pd.DataFrame(num_attributes.apply(np.std)).T\n",
    "d2=pd.DataFrame(num_attributes.apply(min)).T\n",
    "d3=pd.DataFrame(num_attributes.apply(max)).T\n",
    "d4=pd.DataFrame(num_attributes.apply(lambda x:x.max()-x.min())).T\n",
    "d5=pd.DataFrame(num_attributes.apply(lambda x:x.skew())).T\n",
    "d6=pd.DataFrame(num_attributes.apply(lambda x:x.kurtosis())).T\n",
    "#concatenate\n",
    "m=pd.concat([d2,d3,d4,ct1,ct2,d1,d5,d6]).T.reset_index()\n",
    "m.columns=(['attributes','min','max','range','mean','median','std','skew','kurtosis'])\n"
   ]
  },
  {
   "cell_type": "code",
   "execution_count": null,
   "metadata": {
    "ExecuteTime": {
     "start_time": "2021-06-13T01:50:18.047Z"
    },
    "hidden": true
   },
   "outputs": [],
   "source": [
    "m"
   ]
  },
  {
   "cell_type": "markdown",
   "metadata": {
    "hidden": true
   },
   "source": [
    "### 1.7.2 Categóricos"
   ]
  },
  {
   "cell_type": "code",
   "execution_count": null,
   "metadata": {
    "ExecuteTime": {
     "start_time": "2021-06-13T01:50:18.070Z"
    },
    "hidden": true
   },
   "outputs": [],
   "source": [
    "cat_attributes.apply(lambda x:x.unique().shape[0] )"
   ]
  },
  {
   "cell_type": "code",
   "execution_count": null,
   "metadata": {
    "ExecuteTime": {
     "start_time": "2021-06-13T01:50:18.075Z"
    },
    "hidden": true
   },
   "outputs": [],
   "source": [
    "plt.figure(figsize= (17, 7))\n",
    "\n",
    "aux1=df1[(df1['state_holiday']!='0')& (df1['sales']>0)];\n",
    "plt.figure(figsize= (17, 7))\n",
    "\n",
    "plt.subplot(1,3,1)\n",
    "sns.boxplot(x='state_holiday',y='sales', data= aux1);\n",
    "\n",
    "plt.subplot(1,3,2)\n",
    "sns.boxplot(x='store_type',y='sales',data=aux1);\n",
    "\n",
    "plt.subplot(1,3,3)\n",
    "sns.boxplot(x='assortment',y='sales',data=aux1);\n",
    "plt.tight_layout()\n"
   ]
  },
  {
   "cell_type": "markdown",
   "metadata": {
    "heading_collapsed": true
   },
   "source": [
    "# 2.0 Feature engineering"
   ]
  },
  {
   "cell_type": "markdown",
   "metadata": {
    "ExecuteTime": {
     "end_time": "2021-06-04T15:39:09.685661Z",
     "start_time": "2021-06-04T15:39:09.678640Z"
    },
    "hidden": true
   },
   "source": [
    "### 2.1 Mapa das hipóteses "
   ]
  },
  {
   "cell_type": "code",
   "execution_count": null,
   "metadata": {
    "ExecuteTime": {
     "start_time": "2021-06-13T01:50:18.116Z"
    },
    "hidden": true
   },
   "outputs": [],
   "source": [
    "Image('MindMapHypothesis.png') # ferramenta coggle\n"
   ]
  },
  {
   "cell_type": "markdown",
   "metadata": {
    "hidden": true
   },
   "source": [
    "### 2.2 Criação de hipóteses "
   ]
  },
  {
   "cell_type": "markdown",
   "metadata": {
    "ExecuteTime": {
     "end_time": "2021-06-04T15:45:45.286016Z",
     "start_time": "2021-06-04T15:45:45.280507Z"
    },
    "heading_collapsed": true,
    "hidden": true
   },
   "source": [
    "#### 2.2.1 Hipóteses lojas"
   ]
  },
  {
   "cell_type": "markdown",
   "metadata": {
    "hidden": true
   },
   "source": [
    "***1*** lojas com maior quadro de funcionarios deveriam vender mais\n",
    "\n",
    "***2*** lojas com maior estoque deveriam vender mais\n",
    "\n",
    "***3*** lojas com maior porte deveriam vender mais\n",
    "\n",
    "***4*** lojas com maior sortimento deveriam vender mais"
   ]
  },
  {
   "cell_type": "markdown",
   "metadata": {
    "heading_collapsed": true,
    "hidden": true
   },
   "source": [
    "#### 2.2.2 Hipóteses Produtos"
   ]
  },
  {
   "cell_type": "markdown",
   "metadata": {
    "hidden": true
   },
   "source": [
    "***1*** lojas que investem mais em marketing deveriam vender mais\n",
    "\n",
    "***2*** lojas que expoem mais o produto deveriam vender mais\n",
    "\n",
    "***3*** lojas que tem precos menores nos produtos deveriam vender mais\n",
    "\n",
    "***4*** lojas que possuem precos menores por mais tempo deveriam vender mais\n"
   ]
  },
  {
   "cell_type": "markdown",
   "metadata": {
    "heading_collapsed": true,
    "hidden": true
   },
   "source": [
    "#### 2.2.3 Hipóteses Tempo"
   ]
  },
  {
   "cell_type": "markdown",
   "metadata": {
    "hidden": true
   },
   "source": [
    "***1*** lojas que tem mais feriados deveriam vender mais\n",
    "\n",
    "***2*** lojas que abrem nos primeiros 6 meses deveriam vender mais\n",
    "\n",
    "***3*** lojas que abrem nos finais de semana deveriam vender mais"
   ]
  },
  {
   "cell_type": "markdown",
   "metadata": {
    "hidden": true
   },
   "source": [
    "#### 2.2.4 Priorizaçao das hipóteses "
   ]
  },
  {
   "cell_type": "code",
   "execution_count": null,
   "metadata": {
    "ExecuteTime": {
     "start_time": "2021-06-13T01:50:18.260Z"
    },
    "hidden": true
   },
   "outputs": [],
   "source": [
    "# Aquelas que já possuimos os dados "
   ]
  },
  {
   "cell_type": "markdown",
   "metadata": {
    "hidden": true
   },
   "source": [
    "***1*** lojas com maior sortimento deveriam vender mais\n",
    "\n",
    "***2*** lojas com competidores mais proximos deveriam vender menos\n",
    "\n",
    "***3*** lojas com competidores a mais tempos deveriam vender mais\n",
    "\n",
    "***4*** lojas com promocoes ativas por mais tempos deveriam vender mais\n",
    "\n",
    "***5*** lojas com mais dias de promocao deveriam vender mais \n",
    "\n",
    "***6*** lojas com mais promocoes consecutivas deveriam vender mais\n",
    "\n",
    "***7*** lojas abertas durante os feriados deveriam vender mais\n",
    "\n",
    "***8*** lojas deveriam vender mais ao longo dos anos\n",
    "\n",
    "***9*** lojas deveriam vender mais no segundo semestre\n",
    "\n",
    "***10*** lojas deveriam vender mais depois do dia 10 de cada mes\n",
    "\n",
    "***11*** lojas deveriam vender menos aos finais de semana\n",
    "\n",
    "***12*** lojas deveriam vender menos durante feriados escolares\n",
    "\n"
   ]
  },
  {
   "cell_type": "code",
   "execution_count": null,
   "metadata": {
    "ExecuteTime": {
     "start_time": "2021-06-13T01:50:18.279Z"
    },
    "hidden": true
   },
   "outputs": [],
   "source": [
    "df2=df1.copy()\n"
   ]
  },
  {
   "cell_type": "markdown",
   "metadata": {
    "hidden": true
   },
   "source": [
    "### 2.3 Feature Engineering\n"
   ]
  },
  {
   "cell_type": "raw",
   "metadata": {
    "hidden": true
   },
   "source": [
    "Vamos criar features para nos auxiliar ao longo do projeto.\n",
    "Criaremos colunas para o ano, mês, dia, semana do ano e semana com ano.\n",
    "Criaremos também uma colunas para o tempo que uma loja possui um concorrente em meses.\n",
    "Trocaremos o nome dos dados das colunas state_holiday e assortment para os valores descritos na descrição dos dados."
   ]
  },
  {
   "cell_type": "code",
   "execution_count": null,
   "metadata": {
    "ExecuteTime": {
     "start_time": "2021-06-13T01:50:18.543Z"
    },
    "hidden": true
   },
   "outputs": [],
   "source": [
    "#desmembrando da varivel \"date\" com a funcao dt.year\n",
    "df2['year']=df2['date'].dt.year   \n",
    "df2['month']=df2['date'].dt.month\n",
    "df2['day']=df2['date'].dt.day\n",
    "df2['week_of_year']=df2['date'].dt.weekofyear\n",
    "df2['year_week']=df2['date'].dt.strftime('%Y-%W') \n",
    "\n",
    "#juntar as duas variaveis - competition since\n",
    "df2['competition_since']=df2.apply(lambda x:datetime.datetime(year=x['competition_open_since_year'],month=x['competition_open_since_month'],day=1),axis=1)\n",
    "df2['competition_time_month']=((df2['date']- df2['competition_since'])/30).apply(lambda x:x.days).astype(int)\n",
    "\n",
    "#promo since \n",
    "df2['promo_since']=df2['promo2_since_year'].astype(str)+'-'+ df2['promo2_since_week'].astype(str)\n",
    "df2['promo_since']=df2['promo_since'].apply(lambda x:datetime.datetime.strptime(x +'-1','%Y-%W-%w')- datetime.timedelta(days=7))\n",
    "df2['promo_time_week']=((df2['date']-df2['promo_since'])/7).apply(lambda x:x.days).astype(int)\n",
    "\n",
    "##assortment \n",
    "df2['assortment']=df2['assortment'].apply(lambda x:'basic' if x=='a' else 'extra' if x=='b' else 'extended')\n",
    "\n",
    "#\n",
    "df2['state_holiday']= df2['state_holiday'].apply(lambda x:'public_holiday' if x=='a' else 'easter_holiday' if x=='b' else 'christmas' if x=='c'else 'regular_day')\n"
   ]
  },
  {
   "cell_type": "code",
   "execution_count": null,
   "metadata": {
    "ExecuteTime": {
     "start_time": "2021-06-13T01:50:18.548Z"
    },
    "hidden": true
   },
   "outputs": [],
   "source": [
    "df2.head().T"
   ]
  },
  {
   "cell_type": "markdown",
   "metadata": {
    "heading_collapsed": true
   },
   "source": [
    "# 3.0 Filtragem dos dados"
   ]
  },
  {
   "cell_type": "code",
   "execution_count": null,
   "metadata": {
    "ExecuteTime": {
     "start_time": "2021-06-13T01:50:18.569Z"
    },
    "hidden": true
   },
   "outputs": [],
   "source": [
    "df3=df2.copy()\n",
    "df3.head(15)"
   ]
  },
  {
   "cell_type": "markdown",
   "metadata": {
    "hidden": true
   },
   "source": [
    "## 3.1 Filtragem de linhas "
   ]
  },
  {
   "cell_type": "code",
   "execution_count": null,
   "metadata": {
    "ExecuteTime": {
     "start_time": "2021-06-13T01:50:18.591Z"
    },
    "hidden": true
   },
   "outputs": [],
   "source": [
    "df3=df3[(df3['open']!=0)&(df3['sales']>0)]\n"
   ]
  },
  {
   "cell_type": "markdown",
   "metadata": {
    "hidden": true
   },
   "source": [
    "## 3.2 Seleção de colunas "
   ]
  },
  {
   "cell_type": "raw",
   "metadata": {
    "hidden": true
   },
   "source": [
    "Podemos filtrar as seguintes colunas:\n",
    "\n",
    "open: Pois depois da filtragem das linhas, todas possuem o mesmo valor 1.\n",
    "customers: Pois não sabemos quantos cliente irão entrar na loja no futuro.\n",
    "promo_interval: Pois serviu como auxiliar para a construção da coluna ['is_promo'].\n",
    "month_map: Pois serviu como auxiliar para a construção da coluna ['is_promo']."
   ]
  },
  {
   "cell_type": "code",
   "execution_count": null,
   "metadata": {
    "ExecuteTime": {
     "start_time": "2021-06-13T01:50:18.848Z"
    },
    "hidden": true,
    "scrolled": true
   },
   "outputs": [],
   "source": [
    "cols_drop=['customers','open','promo_interval','month_map']\n",
    "df3=df3.drop(cols_drop,axis=1)\n",
    "df3.columns"
   ]
  },
  {
   "cell_type": "code",
   "execution_count": null,
   "metadata": {
    "ExecuteTime": {
     "start_time": "2021-06-13T01:50:18.853Z"
    },
    "hidden": true
   },
   "outputs": [],
   "source": [
    "df4=df3.copy()\n",
    "\n"
   ]
  },
  {
   "cell_type": "markdown",
   "metadata": {},
   "source": [
    "# 4.0 Análise exploratória de dados "
   ]
  },
  {
   "cell_type": "markdown",
   "metadata": {},
   "source": [
    "## 4.1 Análise Univariada "
   ]
  },
  {
   "cell_type": "markdown",
   "metadata": {},
   "source": [
    "### 4.1.1 Resposta da variável"
   ]
  },
  {
   "cell_type": "code",
   "execution_count": null,
   "metadata": {
    "ExecuteTime": {
     "start_time": "2021-06-13T01:50:18.930Z"
    }
   },
   "outputs": [],
   "source": [
    "plt.figure(figsize= (10, 7))\n",
    "\n",
    "sns.distplot(df4['sales'], kde= True)\n",
    "plt.tight_layout()"
   ]
  },
  {
   "cell_type": "markdown",
   "metadata": {
    "heading_collapsed": true
   },
   "source": [
    "### 4.1.2 Análise numérica "
   ]
  },
  {
   "cell_type": "code",
   "execution_count": null,
   "metadata": {
    "ExecuteTime": {
     "start_time": "2021-06-13T01:50:18.951Z"
    },
    "hidden": true
   },
   "outputs": [],
   "source": [
    "\n",
    "num_attributes.hist(bins=40,figsize=(10,7));"
   ]
  },
  {
   "cell_type": "markdown",
   "metadata": {
    "ExecuteTime": {
     "end_time": "2021-06-04T21:01:54.475076Z",
     "start_time": "2021-06-04T21:01:54.460238Z"
    }
   },
   "source": [
    "### 4.1.3 Variavel Categórica"
   ]
  },
  {
   "cell_type": "code",
   "execution_count": null,
   "metadata": {
    "ExecuteTime": {
     "start_time": "2021-06-13T01:50:18.974Z"
    }
   },
   "outputs": [],
   "source": [
    "cat_attributes.head()"
   ]
  },
  {
   "cell_type": "code",
   "execution_count": null,
   "metadata": {
    "ExecuteTime": {
     "start_time": "2021-06-13T01:50:18.979Z"
    }
   },
   "outputs": [],
   "source": [
    "df4['state_holiday'].drop_duplicates()"
   ]
  },
  {
   "cell_type": "code",
   "execution_count": null,
   "metadata": {
    "ExecuteTime": {
     "start_time": "2021-06-13T01:50:18.984Z"
    }
   },
   "outputs": [],
   "source": [
    "# state holiday\n",
    "a=df4[df4['state_holiday']!= 'regular_day']\n",
    "sns.countplot(a['state_holiday']);"
   ]
  },
  {
   "cell_type": "code",
   "execution_count": null,
   "metadata": {
    "ExecuteTime": {
     "start_time": "2021-06-13T01:50:18.988Z"
    }
   },
   "outputs": [],
   "source": [
    "# state holiday + outros plots \n",
    "plt.figure(figsize= (10, 15))\n",
    "\n",
    "plt.subplot(3,2,1)\n",
    "a=df4[df4['state_holiday']!= 'regular_day']\n",
    "sns.countplot(a['state_holiday'])\n",
    "\n",
    "plt.subplot(3,2,2)\n",
    "sns.kdeplot(df4[df4['state_holiday']=='public_holiday']['sales'],label='public_holiday',shade=True)\n",
    "sns.kdeplot(df4[df4['state_holiday']=='easter_holiday']['sales'],label='easter_holiday',shade=True)\n",
    "sns.kdeplot(df4[df4['state_holiday']=='christmas']['sales'],label='christmas',shade=True)\n",
    "\n",
    "\n",
    "#store_type\n",
    "plt.subplot(3,2,3)\n",
    "sns.countplot(df4['store_type'])\n",
    "\n",
    "plt.subplot(3,2,4)\n",
    "sns.kdeplot(df4[df4['store_type']=='a']['sales'],label='a',shade=True)\n",
    "sns.kdeplot(df4[df4['store_type']=='b']['sales'],label='b',shade=True)\n",
    "sns.kdeplot(df4[df4['store_type']=='c']['sales'],label='c',shade=True)\n",
    "sns.kdeplot(df4[df4['store_type']=='d']['sales'],label='d',shade=True)\n",
    "\n",
    "# assortment\n",
    "plt.subplot(3,2,5)\n",
    "sns.countplot(df4['assortment'])\n",
    "\n",
    "plt.subplot(3,2,6)\n",
    "sns.kdeplot(df4[df4['assortment']=='extended']['sales'],label='extended',shade=True)\n",
    "sns.kdeplot(df4[df4['assortment']=='basic']['sales'],label='basic',shade=True)\n",
    "sns.kdeplot(df4[df4['assortment']=='extra']['sales'],label='extra',shade=True);\n",
    "plt.tight_layout()\n"
   ]
  },
  {
   "cell_type": "markdown",
   "metadata": {
    "heading_collapsed": true
   },
   "source": [
    "## 4.1 Análise Bivariada"
   ]
  },
  {
   "cell_type": "markdown",
   "metadata": {
    "hidden": true
   },
   "source": [
    "***1*** lojas com maior sortimento deveriam vender mais\n",
    "\n",
    "***2*** lojas com competidores mais proximos deveriam vender menos\n",
    "\n",
    "***3*** lojas com competidores a mais tempos deveriam vender mais\n",
    "\n",
    "***4*** lojas com promocoes ativas por mais tempos deveriam vender mais\n",
    "\n",
    "***5*** lojas com mais dias de promocao deveriam vender mais \n",
    "\n",
    "***6*** lojas com mais promocoes consecutivas deveriam vender mais\n",
    "\n",
    "***7*** lojas abertas durante os feriados deveriam vender mais\n",
    "\n",
    "***8*** lojas deveriam vender mais ao longo dos anos\n",
    "\n",
    "***9*** lojas deveriam vender mais no segundo semestre\n",
    "\n",
    "***10*** lojas deveriam vender mais depois do dia 10 de cada mes\n",
    "\n",
    "***11*** lojas deveriam vender menos aos finais de semana\n",
    "\n",
    "***12*** lojas deveriam vender menos durante feriados escolares"
   ]
  },
  {
   "cell_type": "markdown",
   "metadata": {
    "ExecuteTime": {
     "end_time": "2021-06-07T23:06:16.741668Z",
     "start_time": "2021-06-07T23:04:29.824Z"
    },
    "heading_collapsed": true
   },
   "source": [
    "## H1. Lojas com maior sortimento deveriam vender mais \n",
    "\n"
   ]
  },
  {
   "cell_type": "raw",
   "metadata": {
    "hidden": true
   },
   "source": [
    "Hipotese Falsa , com maior sortimento vendem menos. De acordo com a plotagem o objeto extra possui notória menor quantidade de venda."
   ]
  },
  {
   "cell_type": "code",
   "execution_count": null,
   "metadata": {
    "ExecuteTime": {
     "start_time": "2021-06-13T01:50:19.315Z"
    },
    "hidden": true
   },
   "outputs": [],
   "source": [
    "aux1 = df4[['assortment', 'sales']].groupby('assortment').sum().reset_index()\n",
    "sns.barplot(x='assortment',y='sales',data=aux1);\n",
    "\n",
    "aux2 = df4[['year_week','assortment','sales']].groupby(['year_week','assortment']).sum().reset_index()\n",
    "aux2.pivot(index='year_week', columns='assortment', values='sales').plot()\n",
    "\n",
    "aux3 = aux2[aux2['assortment']=='extra']\n",
    "aux3.pivot(index='year_week', columns='assortment', values='sales').plot()\n"
   ]
  },
  {
   "cell_type": "markdown",
   "metadata": {},
   "source": [
    "## H2. Lojas com competidores mais próximos  vendem menos.\n",
    "\n"
   ]
  },
  {
   "cell_type": "raw",
   "metadata": {},
   "source": [
    "Hipotese Falsa, Lojas que possuem competidores proximos vendem mais. "
   ]
  },
  {
   "cell_type": "code",
   "execution_count": null,
   "metadata": {
    "ExecuteTime": {
     "start_time": "2021-06-13T01:50:19.579Z"
    }
   },
   "outputs": [],
   "source": [
    "# agrupamento(bin) para melhor visualizacao de 1000 em 1000.\n",
    "\n",
    "aux1=df4[['competition_distance','sales']].groupby('competition_distance').sum().reset_index()\n",
    "plt.figure(figsize= (15, 10))\n",
    "\n",
    "\n",
    "bins=list(np.arange(0,20000,1000)) #np.arrange= cria um array(lista de mesmo tipo)\n",
    "\n",
    "aux1['competition_distance_binned']=pd.cut(aux1['competition_distance'],bins=bins) # cut= separa o valores da coluna 'comp_distance'no DataFrame df nas faixas etárias calculadas usando o valor do argumento bins no método pandas\n",
    "aux2=aux1[['competition_distance_binned','sales']].groupby('competition_distance_binned').sum().reset_index()\n",
    "\n",
    "\n",
    "sns.barplot(x='competition_distance_binned',y='sales',data=aux2);\n",
    "plt.xticks(rotation=90);\n",
    "\n",
    "\n"
   ]
  },
  {
   "cell_type": "code",
   "execution_count": null,
   "metadata": {
    "ExecuteTime": {
     "start_time": "2021-06-13T01:50:19.584Z"
    }
   },
   "outputs": [],
   "source": [
    "aux1=df4[['competition_distance','sales']].groupby('competition_distance').sum().reset_index()\n",
    "plt.figure(figsize= (15, 15))\n",
    "\n",
    "plt.subplot(1,3,1)\n",
    "sns.scatterplot(x='competition_distance', y='sales',data=aux1);\n",
    "\n",
    "plt.subplot(1,3,2)\n",
    "bins=list(np.arange(0,20000,1000)) #np.arrange= cria um array(lista de mesmo tipo)\n",
    "aux1['competition_distance_binned']=pd.cut(aux1['competition_distance'],bins=bins) # cut= separa o valores da coluna 'comp_distance'no DataFrame df nas faixas etárias calculadas usando o valor do argumento bins no método pandas\n",
    "aux2=aux1[['competition_distance_binned','sales']].groupby('competition_distance_binned').sum().reset_index()\n",
    "sns.barplot(x='competition_distance_binned',y='sales',data=aux2);\n",
    "plt.xticks(rotation=90);\n",
    "\n",
    "\n",
    "plt.subplot(1,3,3)\n",
    "x=sns.heatmap(aux1.corr(method='pearson'),annot=True);\n",
    "bottom,top=x.get_ylim()\n",
    "x.set_ylim(bottom+0.5,top-0.5);\n"
   ]
  },
  {
   "cell_type": "markdown",
   "metadata": {},
   "source": [
    "## H3.Lojas com competidores a mais tempo deveriam vender mais\n",
    "\n"
   ]
  },
  {
   "cell_type": "raw",
   "metadata": {},
   "source": [
    "Hipotese Falsa, lojas com competidores a mais tempo vendem menos. A correlacao entre o tempo e vendas de pearson é muito fraca."
   ]
  },
  {
   "cell_type": "code",
   "execution_count": null,
   "metadata": {
    "ExecuteTime": {
     "start_time": "2021-06-13T01:50:19.843Z"
    }
   },
   "outputs": [],
   "source": [
    "plt.figure(figsize= (15, 15))\n",
    "\n",
    "plt.subplot(1,3,1)\n",
    "aux1=df4[['competition_time_month','sales',]].groupby('competition_time_month').sum().reset_index()\n",
    "aux2=aux1[(aux1['competition_time_month']<120)&(aux1['competition_time_month']!=0)]\n",
    "sns.barplot(x='competition_time_month',y='sales', data=aux2);\n",
    "plt.xticks(rotation=90);\n",
    "\n",
    "plt.subplot(1,3,2)\n",
    "sns.regplot(x='competition_time_month',y='sales', data=aux2);\n",
    "\n",
    "plt.subplot(1,3,3)\n",
    "sns.heatmap(aux1.corr(method='pearson'),annot=True);\n",
    "bottom,top=x.get_ylim()\n",
    "x.set_ylim(bottom+0.5,top-0.5);\n"
   ]
  },
  {
   "cell_type": "markdown",
   "metadata": {},
   "source": [
    "## H4. Lojas com promoçoes ativas por mais tempo vendem mais\n",
    "\n"
   ]
  },
  {
   "cell_type": "raw",
   "metadata": {
    "ExecuteTime": {
     "end_time": "2021-06-10T23:06:29.923883Z",
     "start_time": "2021-06-10T23:06:29.907849Z"
    }
   },
   "source": [
    "Hipotese Falsa, lojas com promocao a mais tempo vendem menos. A correlacao entre o tempo e vendas de pearson é muito fraca, muito proxima a 0."
   ]
  },
  {
   "cell_type": "code",
   "execution_count": null,
   "metadata": {
    "ExecuteTime": {
     "start_time": "2021-06-13T01:50:20.107Z"
    }
   },
   "outputs": [],
   "source": [
    "plt.figure(figsize= (15, 15))\n",
    "\n",
    "plt.subplot(2,1,1)\n",
    "sns.scatterplot(x= 'competition_time_month', y= 'sales', data= df4[(df4['competition_time_month'] <200) & df4['competition_time_month'] != 0])\n",
    "titulo=('Tempo com Concorrência', 20);\n",
    "\n"
   ]
  },
  {
   "cell_type": "code",
   "execution_count": null,
   "metadata": {
    "ExecuteTime": {
     "start_time": "2021-06-13T01:50:20.111Z"
    }
   },
   "outputs": [],
   "source": [
    "aux1=df4[['promo_time_week','sales']].groupby('promo_time_week').sum().reset_index()\n",
    "plt.figure(figsize= (15, 15))\n",
    "\n",
    "grid=GridSpec(2,3)\n",
    "\n",
    "plt.subplot(grid[0,0])\n",
    "aux2=aux1[aux1['promo_time_week']>0]\n",
    "sns.barplot(x='promo_time_week',y='sales',data=aux2)\n",
    "plt.xticks(rotation=90);\n",
    "\n",
    "\n",
    "plt.subplot(grid[0,1])\n",
    "sns.regplot(x='promo_time_week',y='sales',data=aux2)\n",
    "\n",
    "plt.subplot(grid[1,0])\n",
    "aux3=aux1[aux1['promo_time_week']<0]\n",
    "sns.barplot(x='promo_time_week',y='sales',data=aux3)\n",
    "plt.xticks(rotation=90);\n",
    "\n",
    "plt.subplot(grid[1,1])\n",
    "sns.regplot(x='promo_time_week',y='sales',data=aux3);\n",
    "\n",
    "plt.subplot(grid[:,2])\n",
    "sns.heatmap(aux1.corr(method='pearson'),annot=True);\n"
   ]
  },
  {
   "cell_type": "markdown",
   "metadata": {},
   "source": [
    "##  H5. Lojas com mais promoçoes consecutivas vendem mais\n",
    "\n"
   ]
  },
  {
   "cell_type": "raw",
   "metadata": {},
   "source": [
    " Hipotese Falsa, os graficos demonstram que período do periodo extendido é irrelevante nas vendas."
   ]
  },
  {
   "cell_type": "code",
   "execution_count": null,
   "metadata": {
    "ExecuteTime": {
     "start_time": "2021-06-13T01:50:20.375Z"
    }
   },
   "outputs": [],
   "source": [
    "df4[['promo','promo2','sales']].groupby(['promo','promo2']).sum().reset_index()"
   ]
  },
  {
   "cell_type": "code",
   "execution_count": null,
   "metadata": {
    "ExecuteTime": {
     "start_time": "2021-06-13T01:50:20.381Z"
    }
   },
   "outputs": [],
   "source": [
    "plt.figure(figsize= (15, 7))\n",
    "\n",
    "aux1= df4[(df4['promo'] == 1) & (df4['promo2'] == 1)][['sales', 'year_week']].groupby('year_week').sum().reset_index()\n",
    "sns.lineplot(x= 'year_week', y= 'sales', data= aux1, label= 'promo e promo2', estimator= sum)\n",
    "\n",
    "aux2= df4[(df4['promo'] == 1) & (df4['promo2'] == 0)][['sales', 'year_week']].groupby('year_week').sum().reset_index()\n",
    "sns.lineplot(x= 'year_week', y= 'sales', data= aux2, label= 'promo', estimator= sum)\n",
    "plt.xticks(rotation= 90);"
   ]
  },
  {
   "cell_type": "code",
   "execution_count": null,
   "metadata": {
    "ExecuteTime": {
     "start_time": "2021-06-13T01:50:20.385Z"
    }
   },
   "outputs": [],
   "source": [
    "# Lojas com promoções menos consecutivas vendem mais\n",
    "\n",
    "aux1 = df4[( df4['promo'] == 1 ) & ( df4['promo2'] == 1 )][['year_week', 'sales']].groupby( 'year_week' ).sum().reset_index()\n",
    "ax = aux1.plot()\n",
    "\n",
    "aux2 = df4[( df4['promo'] == 1 ) & ( df4['promo2'] == 0 )][['year_week', 'sales']].groupby( 'year_week' ).sum().reset_index()\n",
    "aux2.plot( ax=ax )\n",
    "\n",
    "ax.legend( labels=['Duas Promo Consecutivas', 'Promocao tradicional']);"
   ]
  },
  {
   "cell_type": "markdown",
   "metadata": {},
   "source": [
    "## H6. Lojas que ficam abertas durante o feriado de Natal  vendem mais. "
   ]
  },
  {
   "cell_type": "raw",
   "metadata": {
    "ExecuteTime": {
     "end_time": "2021-06-10T23:10:53.376393Z",
     "start_time": "2021-06-10T23:10:53.365995Z"
    }
   },
   "source": [
    "Hipotese Falsa,o gráfico de barras demosntra potencial de venda relevante nos feriados públicos.Apesar de que a quantidade de dias no feriado de natal é inferior a quantidade de feriados nacionais."
   ]
  },
  {
   "cell_type": "code",
   "execution_count": null,
   "metadata": {
    "ExecuteTime": {
     "start_time": "2021-06-13T01:50:20.752Z"
    }
   },
   "outputs": [],
   "source": [
    "plt.figure(figsize= (15, 7))\n",
    "\n",
    "plt.subplot(1,2,1)\n",
    "aux=df4[df4['state_holiday']!='regular_day']\n",
    "aux1=aux[['state_holiday','sales']].groupby('state_holiday').sum().reset_index()\n",
    "sns.barplot(x='state_holiday',y='sales',data=aux1);\n",
    "\n",
    "\n",
    "plt.subplot(1,2,2)\n",
    "aux2=aux[['year', 'state_holiday','sales']].groupby(['year','state_holiday']).sum().reset_index()\n",
    "sns.barplot(x='year',y='sales',hue='state_holiday',data=aux2);\n",
    "\n"
   ]
  },
  {
   "cell_type": "markdown",
   "metadata": {},
   "source": [
    "## H7. Lojas devem vender mais ao longo dos anos."
   ]
  },
  {
   "cell_type": "raw",
   "metadata": {},
   "source": [
    "Hipotese Falsa, quanto mais o tempo(em anos) passa as vendem caem. "
   ]
  },
  {
   "cell_type": "code",
   "execution_count": null,
   "metadata": {
    "ExecuteTime": {
     "start_time": "2021-06-13T01:50:20.993Z"
    }
   },
   "outputs": [],
   "source": [
    "aux1= df4[['sales', 'year']].groupby('year').sum().reset_index()\n",
    "plt.figure(figsize= (15, 7))\n",
    "\n",
    "plt.subplot(1,3,1)\n",
    "sns.barplot(x='year',y='sales', data=aux1);\n",
    "plt.subplot(1,3,2)\n",
    "sns.regplot(x='year',y='sales', data=aux1);\n",
    "\n",
    "plt.subplot(1,3,3)\n",
    "sns.heatmap(aux1.corr(method='pearson'), annot=True);\n"
   ]
  },
  {
   "cell_type": "markdown",
   "metadata": {},
   "source": [
    "## H8. Lojas devem vender mais no segundo semestre do ano\n"
   ]
  },
  {
   "cell_type": "raw",
   "metadata": {},
   "source": [
    "Hipotese Falsa,lojas vendem menos no segundo semestre.Correlacao negatica -0,72."
   ]
  },
  {
   "cell_type": "code",
   "execution_count": null,
   "metadata": {
    "ExecuteTime": {
     "start_time": "2021-06-13T01:50:21.239Z"
    }
   },
   "outputs": [],
   "source": [
    "aux1= df4[['sales', 'month']].groupby('month').sum().reset_index()\n",
    "plt.figure(figsize= (15, 7))\n",
    "\n",
    "plt.subplot(1,3,1)\n",
    "sns.barplot(x='month',y='sales', data=aux1);\n",
    "\n",
    "plt.subplot(1,3,2)\n",
    "sns.regplot(x='month',y='sales', data=aux1);\n",
    "\n",
    "plt.subplot(1,3,3)\n",
    "sns.heatmap(aux1.corr(method='pearson'), annot=True);"
   ]
  },
  {
   "cell_type": "markdown",
   "metadata": {},
   "source": [
    "## H9. Lojas vendem mais depois do dia 10 de cada mês \n"
   ]
  },
  {
   "cell_type": "raw",
   "metadata": {},
   "source": [
    "Hipotese verdadeira, na correlaçao de dias em vendas é notoria a concentracao de vendas em - 0,35."
   ]
  },
  {
   "cell_type": "code",
   "execution_count": null,
   "metadata": {
    "ExecuteTime": {
     "start_time": "2021-06-13T01:50:21.505Z"
    }
   },
   "outputs": [],
   "source": [
    "aux1= df4[['sales', 'day']].groupby('day').sum().reset_index()\n",
    "plt.figure(figsize= (15, 7))\n",
    "\n",
    "plt.subplot(2,2,1)\n",
    "sns.barplot(x='day',y='sales', data=aux1);\n",
    "\n",
    "plt.subplot(2,2,2)\n",
    "sns.regplot(x='day',y='sales', data=aux1);\n",
    "\n",
    "plt.subplot(2,2,3)\n",
    "sns.heatmap(aux1.corr(method='pearson'), annot=True);\n",
    "\n",
    "aux1['before_after']= aux1['day'].apply(lambda x: 'before_10_days' if x<=10 else 'after_10_days')\n",
    "aux2=aux1[['before_after','sales']].groupby ('before_after').sum().reset_index()\n",
    "\n",
    "plt.subplot(2,2,4)\n",
    "sns.barplot(x='before_after',y='sales', data=aux2);\n",
    "plt.tight_layout()\n",
    "\n",
    "\n"
   ]
  },
  {
   "cell_type": "code",
   "execution_count": null,
   "metadata": {
    "ExecuteTime": {
     "start_time": "2021-06-13T01:50:21.509Z"
    }
   },
   "outputs": [],
   "source": [
    "# gastos por dia do mes\n",
    "\n",
    "aux1= df4[['sales', 'day']].groupby('day').sum().reset_index()\n",
    "plt.figure(figsize= (15, 7))\n",
    "sns.lineplot(x= 'day', y= 'sales', data= aux1, ci= None, estimator= sum)\n",
    "plt.xticks(range(1,32));\n",
    "plt.tight_layout()\n",
    "\n"
   ]
  },
  {
   "cell_type": "markdown",
   "metadata": {},
   "source": [
    "## H10. Lojas deveriam vender menos no final de semana"
   ]
  },
  {
   "cell_type": "raw",
   "metadata": {},
   "source": [
    "Hipotese verdadeira, a correçao negativa de -0,76 demonstra o resultado."
   ]
  },
  {
   "cell_type": "code",
   "execution_count": null,
   "metadata": {
    "ExecuteTime": {
     "start_time": "2021-06-13T01:50:21.753Z"
    }
   },
   "outputs": [],
   "source": [
    "aux1= df4[['sales', 'day_of_week']].groupby('day_of_week').sum().reset_index()\n",
    "plt.figure(figsize= (15, 7))\n",
    "\n",
    "plt.subplot(2,2,1)\n",
    "sns.barplot(x='day_of_week',y='sales', data= aux1);\n",
    "\n",
    "plt.subplot(2,2,2)\n",
    "sns.regplot(x='day_of_week',y='sales', data= aux1);\n",
    "\n",
    "plt.subplot(2,2,3)\n",
    "sns.heatmap(aux1.corr(method='pearson'), annot=True);\n",
    "\n"
   ]
  },
  {
   "cell_type": "markdown",
   "metadata": {},
   "source": [
    "## H11. Lojas devem vender menos nos feriados escolares.\n"
   ]
  },
  {
   "cell_type": "raw",
   "metadata": {},
   "source": [
    "Hipotese Verdadeira, os graficos demonstram o resultados das vendas no periodo."
   ]
  },
  {
   "cell_type": "code",
   "execution_count": null,
   "metadata": {
    "ExecuteTime": {
     "start_time": "2021-06-13T01:50:22.004Z"
    }
   },
   "outputs": [],
   "source": [
    "plt.figure(figsize= (15, 7))\n",
    "\n",
    "aux1= df4[['sales','school_holiday']].groupby('school_holiday').sum().reset_index()\n",
    "\n",
    "plt.subplot(2,1,1)\n",
    "sns.barplot(x='school_holiday', y='sales', data=aux1);\n",
    "\n",
    "aux2= df4[['month','school_holiday','sales']].groupby(['month','school_holiday']).sum().reset_index()\n",
    "\n",
    "plt.subplot(2,1,2)\n",
    "sns.barplot(x='month',y='sales',hue='school_holiday', data=aux2);\n"
   ]
  },
  {
   "cell_type": "code",
   "execution_count": null,
   "metadata": {
    "ExecuteTime": {
     "start_time": "2021-06-13T01:50:22.008Z"
    }
   },
   "outputs": [],
   "source": [
    "tab=[['Hipoteses','Conclusão','Relevância'],\n",
    "     ['H1','Falsa','baixa'],\n",
    "     ['H2','Falsa','média'],\n",
    "     ['H3','Falsa','média'],\n",
    "     ['H4','Falsa','baixa'],\n",
    "     ['H5','Falsa','baixa'],\n",
    "     ['H6','Falsa','baixa'],\n",
    "     ['H7','Falsa','média'],\n",
    "     ['H8','Falsa','alta'],\n",
    "     ['H9','Falsa','alta'],\n",
    "     ['H10','Verdadeira','alta'],\n",
    "     ['H11','Verdadeira','alta'],\n",
    "     ['H12','Verdadeira','baixa'],\n",
    "    ]\n",
    "print(tabulate(tab,headers='firstrow'))"
   ]
  },
  {
   "cell_type": "markdown",
   "metadata": {},
   "source": [
    "## 4.3 Análise Multivariada "
   ]
  },
  {
   "cell_type": "raw",
   "metadata": {},
   "source": [
    "Encontrar as relaçoes entre as próprias variáveis. Dependência dos vetores que carregam a mesma informaçao ou  sao correlacionados e que podem ser diminuidas do dataset."
   ]
  },
  {
   "cell_type": "markdown",
   "metadata": {},
   "source": [
    "## 4.3.1. Atributos Numéricos"
   ]
  },
  {
   "cell_type": "code",
   "execution_count": null,
   "metadata": {
    "ExecuteTime": {
     "start_time": "2021-06-13T01:50:22.308Z"
    }
   },
   "outputs": [],
   "source": [
    "plt.figure(figsize= (15, 10))\n",
    "correlation=num_attributes.corr(method='pearson')\n",
    "sns.heatmap(correlation, annot= True, linewidths= 1);\n",
    "\n",
    "# escuros: mais relacionados , claros: menos relacionados "
   ]
  },
  {
   "cell_type": "markdown",
   "metadata": {},
   "source": [
    "## 4.3.2. Atributos Categóricos"
   ]
  },
  {
   "cell_type": "code",
   "execution_count": null,
   "metadata": {
    "ExecuteTime": {
     "start_time": "2021-06-13T01:50:22.328Z"
    }
   },
   "outputs": [],
   "source": [
    "df4.select_dtypes(include=\"object\").head()"
   ]
  },
  {
   "cell_type": "code",
   "execution_count": null,
   "metadata": {
    "ExecuteTime": {
     "start_time": "2021-06-13T01:50:22.332Z"
    }
   },
   "outputs": [],
   "source": [
    "# e necessario fazer a correlacao de variaveis categoricas- Nao e possivel fazer pelo metodo de pearson.E necessario usar o cramer -v"
   ]
  },
  {
   "cell_type": "code",
   "execution_count": null,
   "metadata": {
    "ExecuteTime": {
     "start_time": "2021-06-13T01:50:22.336Z"
    }
   },
   "outputs": [],
   "source": [
    "#pd.crosstab(a['state_holiday'],a['store_type']) #possiveis combinacoes entre as variveis categoricas"
   ]
  },
  {
   "cell_type": "code",
   "execution_count": null,
   "metadata": {
    "ExecuteTime": {
     "start_time": "2021-06-13T01:50:22.340Z"
    }
   },
   "outputs": [],
   "source": [
    "#ex:\n",
    "#a[(a['state_holiday']=='christmas')&(a['store_type']=='a')]    \n",
    "# o resultado 4 é a confusion matrix(cm)"
   ]
  },
  {
   "cell_type": "code",
   "execution_count": null,
   "metadata": {
    "ExecuteTime": {
     "start_time": "2021-06-13T01:50:22.343Z"
    }
   },
   "outputs": [],
   "source": [
    "cm=pd.crosstab(a['state_holiday'],a['store_type'])"
   ]
  },
  {
   "cell_type": "code",
   "execution_count": null,
   "metadata": {},
   "outputs": [],
   "source": []
  },
  {
   "cell_type": "code",
   "execution_count": null,
   "metadata": {
    "ExecuteTime": {
     "start_time": "2021-06-13T01:50:22.350Z"
    }
   },
   "outputs": [],
   "source": [
    "chi2=ss.chi2_contingency(cm"
   ]
  },
  {
   "cell_type": "code",
   "execution_count": null,
   "metadata": {
    "ExecuteTime": {
     "start_time": "2021-06-13T01:50:22.353Z"
    }
   },
   "outputs": [],
   "source": [
    "chi2"
   ]
  },
  {
   "cell_type": "code",
   "execution_count": null,
   "metadata": {
    "ExecuteTime": {
     "start_time": "2021-06-13T01:50:22.356Z"
    }
   },
   "outputs": [],
   "source": [
    "#(12792.159524019908) este e o valor de chi2\n",
    "#ou\n",
    "chi2=ss.chi2_contingency(cm)[0]\n",
    "chi2"
   ]
  },
  {
   "cell_type": "code",
   "execution_count": null,
   "metadata": {
    "ExecuteTime": {
     "start_time": "2021-06-13T01:50:22.359Z"
    }
   },
   "outputs": [],
   "source": [
    "cm"
   ]
  },
  {
   "cell_type": "code",
   "execution_count": null,
   "metadata": {
    "ExecuteTime": {
     "start_time": "2021-06-13T01:50:22.364Z"
    }
   },
   "outputs": [],
   "source": [
    "#n: soma de todos os valores\n",
    "n=cm.sum()\n",
    "n"
   ]
  },
  {
   "cell_type": "code",
   "execution_count": null,
   "metadata": {
    "ExecuteTime": {
     "start_time": "2021-06-13T01:50:22.368Z"
    }
   },
   "outputs": [],
   "source": [
    "v=np.sqrt((chi2/n)/(min(k-1,r-1)))"
   ]
  },
  {
   "cell_type": "code",
   "execution_count": null,
   "metadata": {
    "ExecuteTime": {
     "start_time": "2021-06-13T01:50:22.374Z"
    }
   },
   "outputs": [],
   "source": [
    "a= df4.select_dtypes(include= 'object')\n",
    "\n",
    "a1= cramer_v(a['state_holiday'], a['state_holiday'])\n",
    "a2= cramer_v(a['state_holiday'], a['store_type'])\n",
    "a3= cramer_v(a['state_holiday'], a['assortment'])\n",
    "a4= cramer_v(a['store_type'], a['state_holiday'])\n",
    "a5= cramer_v(a['store_type'], a['store_type'])\n",
    "a6= cramer_v(a['store_type'], a['assortment'])\n",
    "a7= cramer_v(a['assortment'], a['state_holiday'])\n",
    "a8= cramer_v(a['assortment'], a['store_type'])\n",
    "a9= cramer_v(a['assortment'], a['assortment'])\n",
    "\n",
    "d= pd.DataFrame({'state_holiday': [a1, a2, a3],\n",
    "                'store_type': [a4, a5, a6],\n",
    "                'assortment': [a7, a8, a9]})\n",
    "\n",
    "d= d.set_index(d.columns)\n",
    "sns.heatmap(d, annot= True);"
   ]
  },
  {
   "cell_type": "markdown",
   "metadata": {},
   "source": [
    "# 5.0 PREPARAÇÃO DOS DADOS\n"
   ]
  },
  {
   "cell_type": "code",
   "execution_count": null,
   "metadata": {
    "ExecuteTime": {
     "start_time": "2021-06-13T01:50:22.394Z"
    }
   },
   "outputs": [],
   "source": [
    "df5= df4.copy()\n"
   ]
  },
  {
   "cell_type": "markdown",
   "metadata": {},
   "source": [
    "## 5.1 Normalização\n"
   ]
  },
  {
   "cell_type": "markdown",
   "metadata": {},
   "source": [
    "Como podemos observar na seção 4.1.2, não apresentamos nenhuma variável numérica com distribuição normal, então não faremos a normalização dos dados.\n",
    "Rescala o centro para o 0 com desvio padrao igual a 1\n",
    "= variavel - media/desvio padrao"
   ]
  },
  {
   "cell_type": "markdown",
   "metadata": {},
   "source": [
    "## 5.2 Reescaling"
   ]
  },
  {
   "cell_type": "markdown",
   "metadata": {},
   "source": [
    "Primeiro vamos selecionar as variáveis numéricas para depois observar as features que possuem outliers e as que não possuem para aplicar diferentes métodos de reescaling, sendo o RobustScaler para o primeiro e o MinMaxScaler para o segundo.\n",
    "Rescala para o intervalo entre 0 e 1\n",
    "Distribuicao nao Gaussianas"
   ]
  },
  {
   "cell_type": "code",
   "execution_count": null,
   "metadata": {
    "ExecuteTime": {
     "start_time": "2021-06-13T01:50:22.451Z"
    }
   },
   "outputs": [],
   "source": [
    "df5.select_dtypes(include= ['int64', 'float64']).head()\n"
   ]
  },
  {
   "cell_type": "code",
   "execution_count": null,
   "metadata": {
    "ExecuteTime": {
     "start_time": "2021-06-13T01:50:22.455Z"
    }
   },
   "outputs": [],
   "source": [
    "plt.figure(figsize= (15, 25))\n",
    "\n",
    "lista= ['competition_distance', 'competition_open_since_month',\n",
    "       'competition_open_since_year', 'promo2_since_week','promo2_since_year', 'year', 'competition_time_month']\n",
    "\n",
    "n= 1\n",
    "for i in lista:\n",
    "    plt.subplot(3, 3, n)\n",
    "    sns.boxplot(x= i, data= df5)\n",
    "    plt.xlabel('')\n",
    "    n+= 1"
   ]
  },
  {
   "cell_type": "code",
   "execution_count": null,
   "metadata": {
    "ExecuteTime": {
     "start_time": "2021-06-13T01:50:22.458Z"
    }
   },
   "outputs": [],
   "source": [
    "rs= RobustScaler()  # quartis\n",
    "mms= MinMaxScaler() \n",
    "\n",
    "# RobustScaler\n",
    "df5['competition_distance']= rs.fit_transform(df5[['competition_distance']].values)\n",
    "\n",
    "df5['competition_open_since_year']= rs.fit_transform(df5[['competition_open_since_year']].values)\n",
    "\n",
    "df5['competition_time_month']= rs.fit_transform(df5[['competition_time_month']].values)\n",
    "\n",
    "# MinMaxScaler\n",
    "df5['competition_open_since_month']= mms.fit_transform(df5[['competition_open_since_month']].values)\n",
    "\n",
    "df5['promo2_since_week']= mms.fit_transform(df5[['promo2_since_week']].values)\n",
    "\n",
    "df5['promo2_since_year']= mms.fit_transform(df5[['promo2_since_year']].values)\n",
    "\n",
    "df5['year']= mm.fit_transform(df5[['year']].values)\n"
   ]
  },
  {
   "cell_type": "code",
   "execution_count": null,
   "metadata": {
    "ExecuteTime": {
     "start_time": "2021-06-13T01:50:22.462Z"
    }
   },
   "outputs": [],
   "source": [
    "fig=plt.figure(figsize=(9,8))\n",
    "sns.distplot(df5['competition_distance'],bins= 30)\n",
    "plt.tight_layout()\n"
   ]
  },
  {
   "cell_type": "markdown",
   "metadata": {},
   "source": [
    "## 5.3 Transformação variáveis categóricas\n"
   ]
  },
  {
   "cell_type": "markdown",
   "metadata": {
    "ExecuteTime": {
     "end_time": "2021-06-13T01:05:22.318780Z",
     "start_time": "2021-06-13T01:05:22.311151Z"
    }
   },
   "source": [
    "### 5.3.1 Encoding"
   ]
  },
  {
   "cell_type": "markdown",
   "metadata": {},
   "source": [
    "ENCODING = converter a variavel categorica em numerica mantendo o conteudo da variável\n",
    "\n",
    "PRINCIPAIS TIPOS: one hot encoding, label, ordinal,target,frequency,embedding\n",
    "\n",
    "LabelEncoding é uma classe de utilitário para ajudar a normalizar rótulos de forma que contenham apenas valores entre 0 e n_classes-1. Pode ser usado para transformar rótulos não numéricos em rótulos numéricos.\n",
    "\n",
    "One Hot Encoding\n",
    "Esse tipo de codificação pode ser obtido com o OneHotEncoder e get_dummies, que transforma cada recurso categórico com valores possíveis de n_categories em recursos binários de ncategories, sendo um deles 1 e todos os outros 0. Por padrão, os valores que cada recurso pode assumir são inferidos automaticamente do conjunto de dados e podem ser encontrados no atributo categorias.\n",
    "\n",
    "Ordinal Encoding\n",
    "Para converter recursos categóricos em códigos inteiros, podemos usar o OrdinalEncoder. Este estimador transforma cada recurso categórico em um novo recurso de números inteiros (0 a n_categories - 1) conforme ordenado.\n",
    "\n",
    "Vamos pegar as features que são objects e transforma-las em numéricas através dos métodos abaixo:\n",
    "\n",
    "state_holiday: OneHot Encoding\n",
    "store_type: Label Enconding\n",
    "assortment: Ordinal Encoding"
   ]
  },
  {
   "cell_type": "code",
   "execution_count": null,
   "metadata": {
    "ExecuteTime": {
     "start_time": "2021-06-13T01:50:22.511Z"
    }
   },
   "outputs": [],
   "source": [
    "df5['assortment'].drop_duplicates()\n"
   ]
  },
  {
   "cell_type": "code",
   "execution_count": null,
   "metadata": {
    "ExecuteTime": {
     "start_time": "2021-06-13T01:50:22.516Z"
    }
   },
   "outputs": [],
   "source": [
    "df5.head()"
   ]
  },
  {
   "cell_type": "code",
   "execution_count": null,
   "metadata": {
    "ExecuteTime": {
     "start_time": "2021-06-13T01:50:22.520Z"
    }
   },
   "outputs": [],
   "source": [
    "# state_holiday - One Hot Encoding\n",
    "df5 = pd.get_dummies(df5, prefix=['state_holiday'], columns = ['state_holiday'])"
   ]
  },
  {
   "cell_type": "code",
   "execution_count": null,
   "metadata": {
    "ExecuteTime": {
     "start_time": "2021-06-13T01:50:22.523Z"
    }
   },
   "outputs": [],
   "source": [
    "# store_type - Label Encoding\n",
    "le = LabelEncoder()\n",
    "df5['store_type'] = le.fit_transform(df5['store_type'])\n",
    "\n"
   ]
  },
  {
   "cell_type": "code",
   "execution_count": null,
   "metadata": {
    "ExecuteTime": {
     "start_time": "2021-06-13T01:50:22.526Z"
    }
   },
   "outputs": [],
   "source": [
    "# assortment - Ordinal\n",
    "assortment_dict = {'basic':1,\n",
    "                  'extra': 2,\n",
    "                  'extended':3}\n",
    "\n",
    "df5['assortment'] = df5['assortment'].map(assortment_dict)"
   ]
  },
  {
   "cell_type": "code",
   "execution_count": null,
   "metadata": {
    "ExecuteTime": {
     "start_time": "2021-06-13T01:50:22.531Z"
    }
   },
   "outputs": [],
   "source": [
    "# Após transformações\n",
    "df5.head()"
   ]
  },
  {
   "cell_type": "code",
   "execution_count": null,
   "metadata": {},
   "outputs": [],
   "source": []
  },
  {
   "cell_type": "code",
   "execution_count": null,
   "metadata": {},
   "outputs": [],
   "source": []
  },
  {
   "cell_type": "code",
   "execution_count": null,
   "metadata": {},
   "outputs": [],
   "source": []
  },
  {
   "cell_type": "code",
   "execution_count": null,
   "metadata": {},
   "outputs": [],
   "source": []
  },
  {
   "cell_type": "code",
   "execution_count": null,
   "metadata": {},
   "outputs": [],
   "source": []
  },
  {
   "cell_type": "code",
   "execution_count": null,
   "metadata": {},
   "outputs": [],
   "source": []
  },
  {
   "cell_type": "code",
   "execution_count": null,
   "metadata": {},
   "outputs": [],
   "source": []
  },
  {
   "cell_type": "code",
   "execution_count": null,
   "metadata": {},
   "outputs": [],
   "source": []
  }
 ],
 "metadata": {
  "kernelspec": {
   "display_name": "Python 3",
   "language": "python",
   "name": "python3"
  },
  "language_info": {
   "codemirror_mode": {
    "name": "ipython",
    "version": 3
   },
   "file_extension": ".py",
   "mimetype": "text/x-python",
   "name": "python",
   "nbconvert_exporter": "python",
   "pygments_lexer": "ipython3",
   "version": "3.8.5"
  },
  "latex_envs": {
   "LaTeX_envs_menu_present": true,
   "autoclose": false,
   "autocomplete": true,
   "bibliofile": "biblio.bib",
   "cite_by": "apalike",
   "current_citInitial": 1,
   "eqLabelWithNumbers": true,
   "eqNumInitial": 1,
   "hotkeys": {
    "equation": "Ctrl-E",
    "itemize": "Ctrl-I"
   },
   "labels_anchors": false,
   "latex_user_defs": false,
   "report_style_numbering": false,
   "user_envs_cfg": false
  },
  "varInspector": {
   "cols": {
    "lenName": 16,
    "lenType": 16,
    "lenVar": 40
   },
   "kernels_config": {
    "python": {
     "delete_cmd_postfix": "",
     "delete_cmd_prefix": "del ",
     "library": "var_list.py",
     "varRefreshCmd": "print(var_dic_list())"
    },
    "r": {
     "delete_cmd_postfix": ") ",
     "delete_cmd_prefix": "rm(",
     "library": "var_list.r",
     "varRefreshCmd": "cat(var_dic_list()) "
    }
   },
   "types_to_exclude": [
    "module",
    "function",
    "builtin_function_or_method",
    "instance",
    "_Feature"
   ],
   "window_display": false
  }
 },
 "nbformat": 4,
 "nbformat_minor": 2
}
